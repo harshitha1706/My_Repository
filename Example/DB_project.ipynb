{
 "cells": [
  {
   "cell_type": "markdown",
   "metadata": {
    "application/vnd.databricks.v1+cell": {
     "cellMetadata": {
      "byteLimit": 2048000,
      "rowLimit": 10000
     },
     "inputWidgets": {},
     "nuid": "5d5d0eed-84d6-4dfe-969d-4885949d5c33",
     "showTitle": false,
     "tableResultSettingsMap": {},
     "title": ""
    }
   },
   "source": [
    "# Project for Housing_Price table\n",
    "- At first created container in microsoft azure storage account \n",
    "- Uploaded csv file in the container\n",
    "- Then integrated the Azure container to databricks \n",
    "- In data ingestion then created table from ADLS Gen2 and the table created in cat-edw-training catalog schema is default saved in delta format\n",
    "- Performed medillian approach to the delta table\n",
    "- Created gold tables of different scenarios  after cleansing the table\n",
    "\n"
   ]
  },
  {
   "cell_type": "code",
   "execution_count": 0,
   "metadata": {
    "application/vnd.databricks.v1+cell": {
     "cellMetadata": {
      "byteLimit": 2048000,
      "implicitDf": true,
      "rowLimit": 10000
     },
     "inputWidgets": {},
     "nuid": "071ccf69-2906-4624-953b-23765033c7a9",
     "showTitle": true,
     "tableResultSettingsMap": {},
     "title": "displayed delta table housing"
    }
   },
   "outputs": [],
   "source": [
    "%sql\n",
    "select * from `cat-edw-training`.default.housing_prices\n",
    "--the data that doesn’t fit the expected schema is placed into this _rescued_data column so it’s not lost"
   ]
  },
  {
   "cell_type": "code",
   "execution_count": 0,
   "metadata": {
    "application/vnd.databricks.v1+cell": {
     "cellMetadata": {
      "byteLimit": 2048000,
      "implicitDf": true,
      "rowLimit": 10000
     },
     "inputWidgets": {},
     "nuid": "b12e26fa-55cf-4bda-837f-46978b9cb670",
     "showTitle": true,
     "tableResultSettingsMap": {},
     "title": "details of housing_table"
    }
   },
   "outputs": [],
   "source": [
    "%sql\n",
    "DESCRIBE DETAIL `cat-edw-training`.default.housing_prices;\n"
   ]
  },
  {
   "cell_type": "code",
   "execution_count": 0,
   "metadata": {
    "application/vnd.databricks.v1+cell": {
     "cellMetadata": {
      "byteLimit": 2048000,
      "rowLimit": 10000
     },
     "inputWidgets": {},
     "nuid": "170d5643-a1d8-4641-a2e0-c52b6cbaa21a",
     "showTitle": true,
     "tableResultSettingsMap": {},
     "title": "created bronze df"
    }
   },
   "outputs": [],
   "source": [
    "bronze_df = spark.table(\"`cat-edw-training`.default.housing_prices\")\n",
    "\n",
    "\n"
   ]
  },
  {
   "cell_type": "code",
   "execution_count": 0,
   "metadata": {
    "application/vnd.databricks.v1+cell": {
     "cellMetadata": {
      "byteLimit": 2048000,
      "rowLimit": 10000
     },
     "inputWidgets": {},
     "nuid": "b35a3b51-2824-46d4-ae49-7fbd9e109589",
     "showTitle": true,
     "tableResultSettingsMap": {},
     "title": "displayed schema"
    }
   },
   "outputs": [],
   "source": [
    "bronze_df.printSchema()\n",
    "bronze_df.show(5, truncate=False)\n"
   ]
  },
  {
   "cell_type": "code",
   "execution_count": 0,
   "metadata": {
    "application/vnd.databricks.v1+cell": {
     "cellMetadata": {
      "byteLimit": 2048000,
      "rowLimit": 10000
     },
     "inputWidgets": {},
     "nuid": "23c85eee-2a83-43a5-aac4-11cca9dd44f4",
     "showTitle": true,
     "tableResultSettingsMap": {},
     "title": "cleansing in silver_df"
    }
   },
   "outputs": [],
   "source": [
    "from pyspark.sql.functions import col\n",
    "\n",
    "silver_df = bronze_df \\\n",
    "    .withColumnRenamed(\"No. of Rooms\", \"No_of_Rooms\") \\\n",
    "    .withColumnRenamed(\"No. of Bathrooms\", \"No_of_Bathrooms\") \\\n",
    "    .withColumnRenamed(\"Lot Size\", \"Lot_Size\") \\\n",
    "    .withColumn(\"SalePrice\", col(\"SalePrice\").cast(\"double\")) \\\n",
    "    .withColumn(\"No_of_Rooms\", col(\"No_of_Rooms\").cast(\"int\")) \\\n",
    "    .withColumn(\"No_of_Bathrooms\", col(\"No_of_Bathrooms\").cast(\"double\")) \\\n",
    "    .withColumn(\"Lot_Size\", col(\"Lot_Size\").cast(\"int\")) \\\n",
    "    .filter((col(\"SalePrice\").isNotNull()) & (col(\"SalePrice\") > 0)) \\\n",
    "    .filter((col(\"No_of_Rooms\").isNotNull()) & (col(\"No_of_Rooms\") >= 0)) \\\n",
    "    .filter((col(\"No_of_Bathrooms\").isNotNull()) & (col(\"No_of_Bathrooms\") >= 0))\n"
   ]
  },
  {
   "cell_type": "code",
   "execution_count": 0,
   "metadata": {
    "application/vnd.databricks.v1+cell": {
     "cellMetadata": {
      "byteLimit": 2048000,
      "rowLimit": 10000
     },
     "inputWidgets": {},
     "nuid": "9400a4f2-7ea4-4cc0-a816-cc46ff5ccb19",
     "showTitle": true,
     "tableResultSettingsMap": {},
     "title": "displaying silver_df schema and data"
    }
   },
   "outputs": [],
   "source": [
    "silver_df.printSchema()\n",
    "silver_df.display(5, truncate=False)"
   ]
  },
  {
   "cell_type": "code",
   "execution_count": 0,
   "metadata": {
    "application/vnd.databricks.v1+cell": {
     "cellMetadata": {
      "byteLimit": 2048000,
      "rowLimit": 10000
     },
     "inputWidgets": {},
     "nuid": "a6240c1f-563a-4b34-8201-e1c70acd1295",
     "showTitle": true,
     "tableResultSettingsMap": {},
     "title": "before gold layer turning silver_df to view"
    }
   },
   "outputs": [],
   "source": [
    "silver_df.createOrReplaceTempView(\"silver_housing_prices\")#because the object type to gold layer is only views. For bronze and silver the object type is tables\n"
   ]
  },
  {
   "cell_type": "code",
   "execution_count": 0,
   "metadata": {
    "application/vnd.databricks.v1+cell": {
     "cellMetadata": {
      "byteLimit": 2048000,
      "implicitDf": true,
      "rowLimit": 10000
     },
     "collapsed": true,
     "inputWidgets": {},
     "nuid": "4ccde769-35db-410d-ba25-62f8460f820b",
     "showTitle": true,
     "tableResultSettingsMap": {},
     "title": "checking the view of silver_df"
    }
   },
   "outputs": [],
   "source": [
    "%sql\n",
    "select * from silver_housing_prices"
   ]
  },
  {
   "cell_type": "markdown",
   "metadata": {
    "application/vnd.databricks.v1+cell": {
     "cellMetadata": {
      "byteLimit": 2048000,
      "rowLimit": 10000
     },
     "inputWidgets": {},
     "nuid": "bdada5a1-904a-4d1b-978b-b50cea8eb085",
     "showTitle": false,
     "tableResultSettingsMap": {},
     "title": ""
    }
   },
   "source": [
    "# Going to Gold_Layer\n",
    "### # Aggregating the housing_prices table\n",
    "\n",
    "- Most expensive areas\tTop N locations by average price\n",
    "- Affordability\tAvg price per room across locations\n",
    "- Distribution\tBucket prices into ranges (e.g. <100k, 100k-300k, etc.)\n",
    "- Data quality\tFlag records with suspicious values (e.g., 10+ bathrooms, 0 rooms)"
   ]
  },
  {
   "cell_type": "code",
   "execution_count": 0,
   "metadata": {
    "application/vnd.databricks.v1+cell": {
     "cellMetadata": {
      "byteLimit": 2048000,
      "implicitDf": true,
      "rowLimit": 10000
     },
     "inputWidgets": {},
     "nuid": "18561998-f270-45bc-9709-376ffec40777",
     "showTitle": true,
     "tableResultSettingsMap": {},
     "title": "Most expensive areas Top N locations by average price"
    }
   },
   "outputs": [],
   "source": [
    "%sql\n",
    "\n",
    "CREATE OR REPLACE TABLE `cat-edw-training`.default.gold_avg_price_by_location AS\n",
    "SELECT \n",
    "    Location,\n",
    "     AVG(SalePrice) AS AvgSalePrice\n",
    "FROM \n",
    "    silver_housing_prices\n",
    "GROUP BY \n",
    "    Location\n",
    "\n"
   ]
  },
  {
   "cell_type": "code",
   "execution_count": 0,
   "metadata": {
    "application/vnd.databricks.v1+cell": {
     "cellMetadata": {
      "byteLimit": 2048000,
      "implicitDf": true,
      "rowLimit": 10000
     },
     "collapsed": true,
     "inputWidgets": {},
     "nuid": "2e00865c-eb56-45a7-8c9a-bd987457fcd4",
     "showTitle": false,
     "tableResultSettingsMap": {},
     "title": ""
    }
   },
   "outputs": [],
   "source": [
    "%sql\n",
    "SELECT current_catalog(), current_schema();\n",
    "--SHOW SCHEMAS IN cat_edw_training;\n",
    "\n"
   ]
  },
  {
   "cell_type": "code",
   "execution_count": 0,
   "metadata": {
    "application/vnd.databricks.v1+cell": {
     "cellMetadata": {
      "byteLimit": 2048000,
      "implicitDf": true,
      "rowLimit": 10000
     },
     "inputWidgets": {},
     "nuid": "3297d84a-8083-4073-be98-9b82b3e491fa",
     "showTitle": true,
     "tableResultSettingsMap": {},
     "title": "Avg price per room across locations"
    }
   },
   "outputs": [],
   "source": [
    "%sql\n",
    "CREATE OR REPLACE TABLE `cat-edw-training`.default.gold_avg_price_per_room AS\n",
    "SELECT \n",
    "avg(SalePrice) AS avg_sale_price, no_of_rooms, Location\n",
    "from silver_housing_prices\n",
    "group by no_of_rooms,Location\n",
    "order by avg(SalePrice) desc\n"
   ]
  },
  {
   "cell_type": "code",
   "execution_count": 0,
   "metadata": {
    "application/vnd.databricks.v1+cell": {
     "cellMetadata": {
      "byteLimit": 2048000,
      "implicitDf": true,
      "rowLimit": 10000
     },
     "collapsed": true,
     "inputWidgets": {},
     "nuid": "52d9c004-ffad-4e5a-9b5f-a2a9d834b66b",
     "showTitle": true,
     "tableResultSettingsMap": {},
     "title": "Distribution Bucket prices into ranges"
    }
   },
   "outputs": [],
   "source": [
    "%sql\n",
    "CREATE OR REPLACE TABLE `cat-edw-training`.default.gold_dist_price_range AS\n",
    "SELECT \n",
    "    CASE\n",
    "        WHEN `SalePrice` > 1000000 THEN 'Expensive'\n",
    "        WHEN `SalePrice` < 1000000 THEN 'Affordable'\n",
    "        ELSE 'Average'\n",
    "    END AS Price_Label,\n",
    "    COUNT(*) AS Count\n",
    "FROM \n",
    "    silver_housing_prices --taking columns from silver_housing_prices\n",
    "GROUP BY \n",
    "    CASE\n",
    "        WHEN `SalePrice` > 1000000 THEN 'Expensive'\n",
    "        WHEN `SalePrice` < 1000000 THEN 'Affordable'\n",
    "        ELSE 'Average'\n",
    "    END\n",
    "ORDER BY \n",
    "    Price_Label; --ordering by Price_Label\n"
   ]
  },
  {
   "cell_type": "code",
   "execution_count": 0,
   "metadata": {
    "application/vnd.databricks.v1+cell": {
     "cellMetadata": {
      "byteLimit": 2048000,
      "implicitDf": true,
      "rowLimit": 10000
     },
     "collapsed": true,
     "inputWidgets": {},
     "nuid": "2f26510c-7cf1-4e8a-be1e-667092622a80",
     "showTitle": true,
     "tableResultSettingsMap": {},
     "title": "Distribution Bucket prices into ranges"
    }
   },
   "outputs": [],
   "source": [
    "%sql\n",
    "--displays all range count\n",
    "-- Affordable\n",
    "CREATE OR REPLACE TABLE `cat-edw-training`.default.gold_dist_allprice_range AS\n",
    "SELECT 'Affordable' AS Price_Label, COUNT(*) AS Count\n",
    "FROM silver_housing_prices\n",
    "WHERE SalePrice < 1000000\n",
    "\n",
    "UNION ALL\n",
    "\n",
    "-- Average\n",
    "SELECT 'Average' AS Price_Label, COUNT(*) AS Count\n",
    "FROM silver_housing_prices\n",
    "WHERE SalePrice = 1000000\n",
    "\n",
    "UNION ALL\n",
    "\n",
    "-- Expensive\n",
    "SELECT 'Expensive' AS Price_Label, COUNT(*) AS Count\n",
    "FROM silver_housing_prices\n",
    "WHERE SalePrice > 1000000;\n"
   ]
  },
  {
   "cell_type": "code",
   "execution_count": 0,
   "metadata": {
    "application/vnd.databricks.v1+cell": {
     "cellMetadata": {
      "byteLimit": 2048000,
      "implicitDf": true,
      "rowLimit": 10000
     },
     "collapsed": true,
     "inputWidgets": {},
     "nuid": "08c7bc43-1752-4338-b49c-03b66e6f152c",
     "showTitle": true,
     "tableResultSettingsMap": {},
     "title": "to see tables in catalog"
    }
   },
   "outputs": [],
   "source": [
    "%sql\n",
    "SHOW TABLES IN `cat-edw-training`.default;\n"
   ]
  },
  {
   "cell_type": "code",
   "execution_count": 0,
   "metadata": {
    "application/vnd.databricks.v1+cell": {
     "cellMetadata": {
      "byteLimit": 2048000,
      "rowLimit": 10000
     },
     "inputWidgets": {},
     "nuid": "937cf20d-5d5e-4784-8394-6995461c0c18",
     "showTitle": true,
     "tableResultSettingsMap": {},
     "title": "to view all aggregated data tables"
    }
   },
   "outputs": [],
   "source": [
    "avg_price_by_location_df = spark.table(\"`cat-edw-training`.default.gold_avg_price_by_location\")\n",
    "avg_price_per_room_df = spark.table(\"`cat-edw-training`.default.gold_avg_price_per_room\")\n",
    "dist_allprice_range_df = spark.table(\"`cat-edw-training`.default.gold_dist_allprice_range\")\n",
    "avg_price_by_location_df.show()\n",
    "avg_price_per_room_df.display()\n",
    "dist_allprice_range_df.show()\n"
   ]
  }
 ],
 "metadata": {
  "application/vnd.databricks.v1+notebook": {
   "computePreferences": null,
   "dashboards": [],
   "environmentMetadata": {
    "base_environment": "",
    "environment_version": "2"
   },
   "inputWidgetPreferences": null,
   "language": "python",
   "notebookMetadata": {
    "mostRecentlyExecutedCommandWithImplicitDF": {
     "commandId": 7632058066190963,
     "dataframes": [
      "_sqldf"
     ]
    },
    "pythonIndentUnit": 4
   },
   "notebookName": "DB_project",
   "widgets": {}
  },
  "language_info": {
   "name": "python"
  }
 },
 "nbformat": 4,
 "nbformat_minor": 0
}
