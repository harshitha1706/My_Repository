{
 "cells": [
  {
   "cell_type": "code",
   "execution_count": 0,
   "metadata": {
    "application/vnd.databricks.v1+cell": {
     "cellMetadata": {
      "byteLimit": 2048000,
      "rowLimit": 10000
     },
     "collapsed": true,
     "inputWidgets": {},
     "nuid": "a0ff5725-bd4a-4374-80d0-982467721b01",
     "showTitle": true,
     "tableResultSettingsMap": {},
     "title": "checked python code"
    }
   },
   "outputs": [],
   "source": [
    "#print  numbers\n",
    "n=1\n",
    "for i in range(10):\n",
    "    print(i)\n",
    "    n+=1\n",
    "print(n)"
   ]
  },
  {
   "cell_type": "code",
   "execution_count": 0,
   "metadata": {
    "application/vnd.databricks.v1+cell": {
     "cellMetadata": {
      "byteLimit": 2048000,
      "implicitDf": true,
      "rowLimit": 10000
     },
     "inputWidgets": {},
     "nuid": "8c4b3da1-66da-41af-bcdf-849316d44806",
     "showTitle": true,
     "tableResultSettingsMap": {},
     "title": "checked sql query"
    }
   },
   "outputs": [],
   "source": [
    "%sql\n",
    "select \"I'm running sql\""
   ]
  },
  {
   "cell_type": "code",
   "execution_count": 0,
   "metadata": {
    "application/vnd.databricks.v1+cell": {
     "cellMetadata": {
      "byteLimit": 2048000,
      "implicitDf": true,
      "rowLimit": 10000
     },
     "collapsed": true,
     "inputWidgets": {},
     "nuid": "c622f0fb-4772-496b-a264-7d96612cf573",
     "showTitle": false,
     "tableResultSettingsMap": {},
     "title": ""
    }
   },
   "outputs": [],
   "source": [
    "%sql\n",
    "select * from samples.nyctaxi.trips"
   ]
  },
  {
   "cell_type": "code",
   "execution_count": 0,
   "metadata": {
    "application/vnd.databricks.v1+cell": {
     "cellMetadata": {
      "byteLimit": 2048000,
      "rowLimit": 10000
     },
     "inputWidgets": {},
     "nuid": "759d462b-14b6-4599-851d-cdadce9b42d9",
     "showTitle": true,
     "tableResultSettingsMap": {},
     "title": "to show sample datasets list"
    }
   },
   "outputs": [],
   "source": [
    "display(dbutils.fs.ls(\"/databricks-datasets/\"))\n",
    "\n",
    "#built-in sample datasets that you can use for practice and testing"
   ]
  },
  {
   "cell_type": "code",
   "execution_count": 0,
   "metadata": {
    "application/vnd.databricks.v1+cell": {
     "cellMetadata": {
      "byteLimit": 2048000,
      "rowLimit": 10000
     },
     "inputWidgets": {},
     "nuid": "b302c6f7-3291-4c6d-92cc-2857d5d03fdb",
     "showTitle": true,
     "tableResultSettingsMap": {},
     "title": "Directory details"
    }
   },
   "outputs": [],
   "source": [
    "#display(dbutils.fs.ls(\"dbfs:/databricks-datasets/online_retail/\"))#table1\n",
    "#display(dbutils.fs.ls(\"dbfs:/databricks-datasets/retail-org/\"))\n",
    "display(dbutils.fs.ls(\"dbfs:/databricks-datasets/retail-org/products/\"))\n",
    "\n",
    "\n",
    "\n"
   ]
  },
  {
   "cell_type": "code",
   "execution_count": 0,
   "metadata": {
    "application/vnd.databricks.v1+cell": {
     "cellMetadata": {
      "byteLimit": 2048000,
      "rowLimit": 10000
     },
     "inputWidgets": {},
     "nuid": "18341ff6-d4e0-4caf-92ba-48b922196710",
     "showTitle": true,
     "tableResultSettingsMap": {},
     "title": "dataset details inside the directory which we got from directory details"
    }
   },
   "outputs": [],
   "source": [
    "#display(dbutils.fs.ls(\"dbfs:/databricks-datasets/online_retail/data-001/\"))#table 1 location\n",
    "#display(dbutils.fs.ls(\"dbfs:/databricks-datasets/retail-org/products/products.csv\")) #table2 location\n",
    "display(dbutils.fs.ls(\"dbfs:/databricks-datasets/nyctaxi-with-zipcodes/subsampled/\"))\n",
    "display(dbutils.fs.ls(\"dbfs:/databricks-datasets/nyctaxi-with-zipcodes/\"))\n",
    "\n",
    "\n",
    "#dbutils = Databricks Utilities"
   ]
  },
  {
   "cell_type": "code",
   "execution_count": 0,
   "metadata": {
    "application/vnd.databricks.v1+cell": {
     "cellMetadata": {
      "byteLimit": 2048000,
      "rowLimit": 10000
     },
     "inputWidgets": {},
     "nuid": "31374ca1-f2cd-4740-8115-c50fa1b5a6b5",
     "showTitle": true,
     "tableResultSettingsMap": {},
     "title": "create dataframe to retail datasets"
    }
   },
   "outputs": [],
   "source": [
    "df1 = spark.read.option(\"header\", True).csv(\"dbfs:/databricks-datasets/online_retail/data-001/data.csv\")\n"
   ]
  },
  {
   "cell_type": "code",
   "execution_count": 0,
   "metadata": {
    "application/vnd.databricks.v1+cell": {
     "cellMetadata": {
      "byteLimit": 2048000,
      "rowLimit": 10000
     },
     "inputWidgets": {},
     "nuid": "b052c40f-f00f-4d76-b0ea-c3794ce10682",
     "showTitle": true,
     "tableResultSettingsMap": {},
     "title": "displayed data from retail"
    }
   },
   "outputs": [],
   "source": [
    "display(df1)"
   ]
  },
  {
   "cell_type": "code",
   "execution_count": 0,
   "metadata": {
    "application/vnd.databricks.v1+cell": {
     "cellMetadata": {
      "byteLimit": 2048000,
      "rowLimit": 10000
     },
     "inputWidgets": {},
     "nuid": "9b71ff76-9987-4c37-be8f-04520390140c",
     "showTitle": true,
     "tableResultSettingsMap": {},
     "title": "read schema"
    }
   },
   "outputs": [],
   "source": [
    "df1.printSchema\n",
    "#it is treating all coulmns as string by providing proper schema  it will the columns as integer which columns having actual integer values"
   ]
  },
  {
   "cell_type": "code",
   "execution_count": 0,
   "metadata": {
    "application/vnd.databricks.v1+cell": {
     "cellMetadata": {
      "byteLimit": 2048000,
      "rowLimit": 10000
     },
     "inputWidgets": {},
     "nuid": "b25ceb4f-10e8-4592-8b14-2c7837b04329",
     "showTitle": true,
     "tableResultSettingsMap": {},
     "title": "providing proper schema"
    }
   },
   "outputs": [],
   "source": [
    "#for creating proper schema have created anaother dataframe\n",
    "df2=spark.read.csv(\"dbfs:/databricks-datasets/online_retail/data-001/data.csv\",header= True, inferSchema=True) \n",
    "df3 = spark.read.csv(\"dbfs:/databricks-datasets/retail-org/products/products.csv\",header= True, inferSchema=True)\n",
    "#here type has changed with respect to column type"
   ]
  },
  {
   "cell_type": "code",
   "execution_count": 0,
   "metadata": {
    "application/vnd.databricks.v1+cell": {
     "cellMetadata": {
      "byteLimit": 2048000,
      "rowLimit": 10000
     },
     "inputWidgets": {},
     "nuid": "8df6981b-b5c5-4658-b74b-08303f12da1e",
     "showTitle": false,
     "tableResultSettingsMap": {},
     "title": ""
    }
   },
   "outputs": [],
   "source": [
    "df1.select(\"InvoiceNo\",\"Quantity\").show()"
   ]
  },
  {
   "cell_type": "code",
   "execution_count": 0,
   "metadata": {
    "application/vnd.databricks.v1+cell": {
     "cellMetadata": {
      "byteLimit": 2048000,
      "rowLimit": 10000
     },
     "inputWidgets": {},
     "nuid": "cbdeccc4-c143-42fd-be54-be963aff31ef",
     "showTitle": true,
     "tableResultSettingsMap": {},
     "title": "To show all selected column records"
    }
   },
   "outputs": [],
   "source": [
    "invoice_quantity = df1.select(\"InvoiceNo\", \"Quantity\").collect()\n",
    "spark.conf.set(\"spark.scheduler.pool\", \"high-priority\") # it sets the priority of the job\n"
   ]
  },
  {
   "cell_type": "code",
   "execution_count": 0,
   "metadata": {
    "application/vnd.databricks.v1+cell": {
     "cellMetadata": {
      "byteLimit": 2048000,
      "rowLimit": 10000
     },
     "inputWidgets": {},
     "nuid": "8678304a-c8be-40d8-bb56-f2cbda1f4474",
     "showTitle": true,
     "tableResultSettingsMap": {},
     "title": "showed given range of columns data"
    }
   },
   "outputs": [],
   "source": [
    "df1.select(df1.columns[1:5]).collect()\n",
    "#df1.select(df1.columns[1:5]).show()"
   ]
  },
  {
   "cell_type": "code",
   "execution_count": 0,
   "metadata": {
    "application/vnd.databricks.v1+cell": {
     "cellMetadata": {
      "byteLimit": 2048000,
      "rowLimit": 10000
     },
     "inputWidgets": {},
     "nuid": "79829d11-3d62-4bdd-bdd8-0f6f0f7432ca",
     "showTitle": true,
     "tableResultSettingsMap": {},
     "title": "tried to import csv file from local computer"
    }
   },
   "outputs": [],
   "source": [
    "dbutils.fs.put(\"/FileStore/tables/my_file.csv\", open(r\"C:\\Users\\harshitha\\Desktop\\Hospitals.csv\",'r').read(), True)\n"
   ]
  },
  {
   "cell_type": "code",
   "execution_count": 0,
   "metadata": {
    "application/vnd.databricks.v1+cell": {
     "cellMetadata": {
      "byteLimit": 2048000,
      "rowLimit": 10000
     },
     "inputWidgets": {},
     "nuid": "b7c67215-77b5-4425-a1e5-602d01210088",
     "showTitle": true,
     "tableResultSettingsMap": {},
     "title": "add new col based on existing col"
    }
   },
   "outputs": [],
   "source": [
    "df1.withColumn(\"UnitPrice1\",df1[\"UnitPrice\"]*100).show()"
   ]
  },
  {
   "cell_type": "code",
   "execution_count": 0,
   "metadata": {
    "application/vnd.databricks.v1+cell": {
     "cellMetadata": {
      "byteLimit": 2048000,
      "rowLimit": 10000
     },
     "inputWidgets": {},
     "nuid": "5766a055-8818-42f7-afad-5003bdd90a70",
     "showTitle": true,
     "tableResultSettingsMap": {},
     "title": "add new column based on constant value"
    }
   },
   "outputs": [],
   "source": [
    "from pyspark.sql.functions import lit\n",
    "df1.withColumn(\"place\",lit(\"Notinghm\")).show()"
   ]
  },
  {
   "cell_type": "code",
   "execution_count": 0,
   "metadata": {
    "application/vnd.databricks.v1+cell": {
     "cellMetadata": {
      "byteLimit": 2048000,
      "rowLimit": 10000
     },
     "inputWidgets": {},
     "nuid": "20f9c685-ffc8-4189-bf71-5b7c46da7796",
     "showTitle": false,
     "tableResultSettingsMap": {},
     "title": ""
    }
   },
   "outputs": [],
   "source": [
    "df1.printSchema()"
   ]
  },
  {
   "cell_type": "code",
   "execution_count": 0,
   "metadata": {
    "application/vnd.databricks.v1+cell": {
     "cellMetadata": {
      "byteLimit": 2048000,
      "rowLimit": 10000
     },
     "inputWidgets": {},
     "nuid": "a06ec62e-c177-43c0-84e5-81c81eb79abe",
     "showTitle": true,
     "tableResultSettingsMap": {},
     "title": "used cast and with column to change the column datatype"
    }
   },
   "outputs": [],
   "source": [
    "from pyspark.sql.functions import col\n",
    "df = df1.withColumn(\"InvoiceNo\",df1[\"InvoiceNo\"].cast(\"int\"))"
   ]
  },
  {
   "cell_type": "code",
   "execution_count": 0,
   "metadata": {
    "application/vnd.databricks.v1+cell": {
     "cellMetadata": {
      "byteLimit": 2048000,
      "rowLimit": 10000
     },
     "inputWidgets": {},
     "nuid": "3ec11265-5ead-4651-b09f-e65fd53cf7eb",
     "showTitle": true,
     "tableResultSettingsMap": {},
     "title": "chnaged invoice datatype with column and cast"
    }
   },
   "outputs": [],
   "source": [
    "df.printSchema()"
   ]
  },
  {
   "cell_type": "code",
   "execution_count": 0,
   "metadata": {
    "application/vnd.databricks.v1+cell": {
     "cellMetadata": {
      "byteLimit": 2048000,
      "rowLimit": 10000
     },
     "inputWidgets": {},
     "nuid": "baec3d02-4d07-43c3-876c-ce81f3b8a227",
     "showTitle": false,
     "tableResultSettingsMap": {},
     "title": ""
    }
   },
   "outputs": [],
   "source": [
    "df.show()"
   ]
  },
  {
   "cell_type": "code",
   "execution_count": 0,
   "metadata": {
    "application/vnd.databricks.v1+cell": {
     "cellMetadata": {
      "byteLimit": 2048000,
      "rowLimit": 10000
     },
     "inputWidgets": {},
     "nuid": "dae392fd-6e97-4ec7-b12f-adaa0a6f1a55",
     "showTitle": true,
     "tableResultSettingsMap": {},
     "title": "column renamed"
    }
   },
   "outputs": [],
   "source": [
    "df.withColumnRenamed(\"Country\",\"Location\").show()"
   ]
  },
  {
   "cell_type": "code",
   "execution_count": 0,
   "metadata": {
    "application/vnd.databricks.v1+cell": {
     "cellMetadata": {
      "byteLimit": 2048000,
      "rowLimit": 10000
     },
     "inputWidgets": {},
     "nuid": "8f26ab71-2532-4b41-9a3a-eae337d0ebf1",
     "showTitle": true,
     "tableResultSettingsMap": {},
     "title": "filter() to filter the data"
    }
   },
   "outputs": [],
   "source": [
    "#df.filter(df[\"UnitPrice\"] > 10).show() #similar to where() in sql\n",
    "#df.filter(df[\"UnitPrice\"] > 10).select(df.columns[1:5]).show()\n",
    "#df.filter((df[\"UnitPrice\"] < 10) & (df[\"InvoiceNo\"] == 536365)).show()\n",
    "#df.filter((df[\"UnitPrice\"] < 10) | (df[\"InvoiceNo\"] == 536365)).show()\n",
    "#df.filter((df[\"UnitPrice\"] < 10)  (df[\"InvoiceNo\"] == 536365)).show()\n",
    "#df1.filter(df1[\"Country\"]==\"France\").show()\n",
    "df1.filter(df1.Country.startswith(\"F\")).show()\n",
    "df1.filter(df1.Country.contains(\"F\")).show()\n",
    "df1.filter(df1.Country.endswith(\"a\")).show()\n",
    "df1.filter(df1.Country.isin([\"France\",\"Spain\"])).show()\n",
    "df.filter(df.Country.eqNullSafe(\"France\")).show()\n",
    "df1.filter(df1.Country.like(\"%nia\")).show()"
   ]
  },
  {
   "cell_type": "code",
   "execution_count": 0,
   "metadata": {
    "application/vnd.databricks.v1+cell": {
     "cellMetadata": {
      "byteLimit": 2048000,
      "rowLimit": 10000
     },
     "inputWidgets": {},
     "nuid": "853f0923-2a77-4a1f-9707-cc9dabe53f97",
     "showTitle": true,
     "tableResultSettingsMap": {},
     "title": "distinct()"
    }
   },
   "outputs": [],
   "source": [
    "df3=df1.distinct()\n",
    "display(df3) #to display all records in the dataset\n",
    "df3.dropDuplicates().show()\n",
    "df3.dropDuplicates([\"InvoiceNo\"]).show()"
   ]
  },
  {
   "cell_type": "code",
   "execution_count": 0,
   "metadata": {
    "application/vnd.databricks.v1+cell": {
     "cellMetadata": {
      "byteLimit": 2048000,
      "rowLimit": 10000
     },
     "inputWidgets": {},
     "nuid": "ddb66f87-11c5-4ade-a81e-47fadb6318cc",
     "showTitle": true,
     "tableResultSettingsMap": {},
     "title": "sort(), orderby()"
    }
   },
   "outputs": [],
   "source": [
    "#df1.sort(df1[\"InvoiceNo\"]).display()\n",
    "df1.sort(df1[\"InvoiceNo\"],ascending=False).display() #means displays in descending order\n",
    "#df1.sort(df1[\"InvoiceNo\"],df1[\"UnitPrice\"]).display()"
   ]
  },
  {
   "cell_type": "code",
   "execution_count": 0,
   "metadata": {
    "application/vnd.databricks.v1+cell": {
     "cellMetadata": {
      "byteLimit": 2048000,
      "rowLimit": 10000
     },
     "inputWidgets": {},
     "nuid": "9cb2da38-936b-40cf-b9d1-51bc955632b0",
     "showTitle": true,
     "tableResultSettingsMap": {},
     "title": "groupby()"
    }
   },
   "outputs": [],
   "source": [
    "#df1.groupBy(\"Country\").count().display()\n",
    "\n",
    "df1.groupBy(\"Country\").agg({\"UnitPrice\":\"sum\"}).display()"
   ]
  },
  {
   "cell_type": "code",
   "execution_count": 0,
   "metadata": {
    "application/vnd.databricks.v1+cell": {
     "cellMetadata": {
      "byteLimit": 2048000,
      "rowLimit": 10000
     },
     "inputWidgets": {},
     "nuid": "c652ba3e-f745-4ec9-9b82-bbe88c850661",
     "showTitle": false,
     "tableResultSettingsMap": {},
     "title": ""
    }
   },
   "outputs": [],
   "source": []
  },
  {
   "cell_type": "code",
   "execution_count": 0,
   "metadata": {
    "application/vnd.databricks.v1+cell": {
     "cellMetadata": {
      "byteLimit": 2048000,
      "rowLimit": 10000
     },
     "inputWidgets": {},
     "nuid": "b3e1e687-07b7-457d-a892-8c4a3bf28b40",
     "showTitle": true,
     "tableResultSettingsMap": {},
     "title": "tables created manually"
    }
   },
   "outputs": [],
   "source": [
    "from pyspark.sql import SparkSession\n",
    "from pyspark.sql.types import *\n",
    "from pyspark.sql.functions import *\n",
    "spark = SparkSession.builder.getOrCreate()\n",
    "# Create Orders DataFrame\n",
    "orders_data = [\n",
    "    (1, 101, 250.0, \"2023-01-15\"),\n",
    "    (2, 102, 450.0, \"2023-01-17\"),\n",
    "    (3, 101, 150.0, \"2023-02-01\"),\n",
    "    (4, 103, 300.0, \"2023-02-20\")\n",
    "]\n",
    "orders_schema = StructType([\n",
    "    StructField(\"order_id\", IntegerType(), True),\n",
    "    StructField(\"customer_id\", IntegerType(), True),\n",
    "    StructField(\"amount\", FloatType(), True),\n",
    "    StructField(\"order_date\", StringType(), True)\n",
    "])\n",
    "orders_df = spark.createDataFrame(data=orders_data, schema=orders_schema)\n",
    "# Create Customers DataFrame\n",
    "customers_data = [\n",
    "    (101, \"Alice\", \"USA\", \"USA\"),\n",
    "    (102, \"Bob\", \"Canada\", \"CAN\"),\n",
    "    (103, \"Charlie\", \"UK\", \"UK\"),\n",
    "    (104, \"David\", \"Australia\", \"AUS\")\n",
    "]\n",
    "customers_schema = StructType([\n",
    "    StructField(\"customer_id\", IntegerType(), True),\n",
    "    StructField(\"customer_name\", StringType(), True),\n",
    "    StructField(\"country\", StringType(), True),\n",
    "    StructField(\"country_shortform\", StringType(), True) #to balanced the number of columns\n",
    "])\n",
    "customers_df = spark.createDataFrame(data=customers_data, schema=customers_schema)\n",
    "\n",
    "# Show the DataFrames\n",
    "orders_df.show()\n",
    "customers_df.show()\n",
    "\n"
   ]
  },
  {
   "cell_type": "code",
   "execution_count": 0,
   "metadata": {
    "application/vnd.databricks.v1+cell": {
     "cellMetadata": {
      "byteLimit": 2048000,
      "rowLimit": 10000
     },
     "inputWidgets": {},
     "nuid": "9f35cea6-56e2-49ee-a05e-521e0dc11b79",
     "showTitle": false,
     "tableResultSettingsMap": {},
     "title": ""
    }
   },
   "outputs": [],
   "source": [
    "# Union operation is not possible between orders_df and customers_df due to schema mismatch.\n",
    "# Instead, we can join the DataFrames on customer_id.\n",
    "\n",
    "union_df = orders_df.join(customers_df, on=\"customer_id\", how=\"inner\")\n",
    "display(union_df)"
   ]
  },
  {
   "cell_type": "code",
   "execution_count": 0,
   "metadata": {
    "application/vnd.databricks.v1+cell": {
     "cellMetadata": {
      "byteLimit": 2048000,
      "rowLimit": 10000
     },
     "inputWidgets": {},
     "nuid": "b5b0df90-e1e9-4cbf-a3d9-e4dbc2b6d5db",
     "showTitle": false,
     "tableResultSettingsMap": {},
     "title": ""
    }
   },
   "outputs": [],
   "source": [
    "#orders_df.union(customers_df).display()\n",
    "orders_df.unionAll(customers_df).display()#not recommended\n",
    "orders_df.union(customers_df).distinct().display() #if you want unique values"
   ]
  },
  {
   "cell_type": "code",
   "execution_count": 0,
   "metadata": {
    "application/vnd.databricks.v1+cell": {
     "cellMetadata": {
      "byteLimit": 2048000,
      "rowLimit": 10000
     },
     "inputWidgets": {},
     "nuid": "83ac6135-8e45-4940-9c56-dc506f13b3f2",
     "showTitle": false,
     "tableResultSettingsMap": {},
     "title": ""
    }
   },
   "outputs": [],
   "source": [
    "df1.fillna(\"unkonown\").display()\n",
    "df1.fillna(0,subset=[\"InvoiceNo\"]).fillna(\"unkonown\",[\"Country\"]).display()"
   ]
  },
  {
   "cell_type": "code",
   "execution_count": 0,
   "metadata": {
    "application/vnd.databricks.v1+cell": {
     "cellMetadata": {
      "byteLimit": 2048000,
      "rowLimit": 10000
     },
     "inputWidgets": {},
     "nuid": "4dcd53ac-4ee7-4f19-9a2a-f172437a70f0",
     "showTitle": false,
     "tableResultSettingsMap": {},
     "title": ""
    }
   },
   "outputs": [],
   "source": [
    "orders_df.printSchema()"
   ]
  },
  {
   "cell_type": "code",
   "execution_count": 0,
   "metadata": {
    "application/vnd.databricks.v1+cell": {
     "cellMetadata": {
      "byteLimit": 2048000,
      "rowLimit": 10000
     },
     "inputWidgets": {},
     "nuid": "cb786396-165e-493e-a89c-e8dfa5ff917c",
     "showTitle": true,
     "tableResultSettingsMap": {},
     "title": "saving dataframes as tables"
    }
   },
   "outputs": [],
   "source": [
    "orders_df.write.format(\"delta\").mode(\"overwrite\").saveAsTable(\"default.orders_table\")\n",
    "customers_df.write.format(\"delta\").mode(\"overwrite\").saveAsTable(\"default.customers_table\")\n"
   ]
  },
  {
   "cell_type": "code",
   "execution_count": 0,
   "metadata": {
    "application/vnd.databricks.v1+cell": {
     "cellMetadata": {
      "byteLimit": 2048000,
      "rowLimit": 10000
     },
     "inputWidgets": {},
     "nuid": "f54912fb-6df0-45dc-89f8-65f43ee9036e",
     "showTitle": true,
     "tableResultSettingsMap": {},
     "title": "command to show databases"
    }
   },
   "outputs": [],
   "source": [
    "%sql\n",
    "SHOW DATABASES"
   ]
  },
  {
   "cell_type": "code",
   "execution_count": 0,
   "metadata": {
    "application/vnd.databricks.v1+cell": {
     "cellMetadata": {
      "byteLimit": 2048000,
      "rowLimit": 10000
     },
     "inputWidgets": {},
     "nuid": "c18145f2-3f42-4c11-af76-8086bf2860d6",
     "showTitle": false,
     "tableResultSettingsMap": {},
     "title": ""
    }
   },
   "outputs": [],
   "source": [
    "%sql\n",
    "CREATE DATABASE Harshithadb"
   ]
  },
  {
   "cell_type": "code",
   "execution_count": 0,
   "metadata": {
    "application/vnd.databricks.v1+cell": {
     "cellMetadata": {
      "byteLimit": 2048000,
      "rowLimit": 10000
     },
     "inputWidgets": {},
     "nuid": "2e311896-a7c6-49aa-a70b-278c942f8525",
     "showTitle": true,
     "tableResultSettingsMap": {},
     "title": "to describe table"
    }
   },
   "outputs": [],
   "source": [
    "%sql\n",
    "--DESCRIBE  samples.nyctaxi.trips\n",
    "DESCRIBE EXTENDED samples.nyctaxi.trips\n",
    "\n"
   ]
  },
  {
   "cell_type": "code",
   "execution_count": 0,
   "metadata": {
    "application/vnd.databricks.v1+cell": {
     "cellMetadata": {},
     "inputWidgets": {},
     "nuid": "1c8f906e-8e51-4fbb-ad17-c8fa0c4c75c2",
     "showTitle": false,
     "tableResultSettingsMap": {},
     "title": ""
    }
   },
   "outputs": [],
   "source": []
  }
 ],
 "metadata": {
  "application/vnd.databricks.v1+notebook": {
   "computePreferences": null,
   "dashboards": [],
   "environmentMetadata": {
    "base_environment": "",
    "environment_version": "2"
   },
   "inputWidgetPreferences": null,
   "language": "python",
   "notebookMetadata": {
    "mostRecentlyExecutedCommandWithImplicitDF": {
     "commandId": 8487051152002974,
     "dataframes": [
      "_sqldf"
     ]
    },
    "pythonIndentUnit": 4
   },
   "notebookName": "pyspark_practise",
   "widgets": {}
  },
  "language_info": {
   "name": "python"
  }
 },
 "nbformat": 4,
 "nbformat_minor": 0
}
